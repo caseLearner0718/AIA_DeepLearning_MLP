{
 "cells": [
  {
   "cell_type": "markdown",
   "metadata": {},
   "source": [
    "# 用TansorFlow 實作MLP 處理手寫數字資料集\n",
    "甚麼是MLP?<br>\n",
    "Multilayer perceptron(MLP)前向傳遞類神經網路，包含三層結構(輸入層、隱藏層和輸出層)，並且利用到「倒傳遞」的技術達到學習(model learning)的監督式學習，以上是傳統的定義。現在深度學習的發展，其實MLP是深度神經網路(deep neural network, DNN)的一種special case，概念基本上一樣，DNN只是在學習過程中多了一些手法和層數會更多更深。<br><br>\n",
    "以下是一個簡單的三層結構當作範例，分別是Input、Hidden、Output。<br>\n",
    "<img src=\"image/MLP_結構.jpg\" width=\"400px\" /><br>\n",
    "MLP中有兩個方向的傳遞，分別是前向傳遞跟倒向傳遞\n",
    "## 前向傳遞(Forward propagation): 較簡單 (只有線性合成，和非線性轉換)\n",
    "前向傳遞為輸入訊號的加權線性和，經過非線性轉換/激活函數後，再向下傳遞。(以下實作過程，使用relu函數)\n",
    "<img src=\"image/relu.jpg\" width=\"200px\">\n",
    "## 反向傳遞 (Backward propagation): 較複雜 (因為多微分方程)\n",
    "反向傳遞的目的就是利用最後的目標函數來進行參數的更新，一般來說都是用誤差均方和(mean square error)當作目標函數。如果誤差值越大，代表參數學得不好，所以需要繼續學習，直到參數或是誤差值收斂。現在最常用的來收斂的方法是<b>梯度下降演算法(gradient descent)</b>，但這個方法使用的條件是一定要方程式可微分，<b>反向傳遞的目的就是為了加速它的算法</b>。<br><br>\n",
    "參考資料:<br>https://medium.com/@chih.sheng.huang821/%E6%A9%9F%E5%99%A8%E5%AD%B8%E7%BF%92-%E7%A5%9E%E7%B6%93%E7%B6%B2%E8%B7%AF-%E5%A4%9A%E5%B1%A4%E6%84%9F%E7%9F%A5%E6%A9%9F-multilayer-perceptron-mlp-%E5%90%AB%E8%A9%B3%E7%B4%B0%E6%8E%A8%E5%B0%8E-ee4f3d5d1b41\n",
    "<br>https://towardsdatascience.com/activation-functions-neural-networks-1cbd9f8d91d6"
   ]
  },
  {
   "cell_type": "code",
   "execution_count": 1,
   "metadata": {
    "scrolled": false
   },
   "outputs": [
    {
     "name": "stderr",
     "output_type": "stream",
     "text": [
      "C:\\ProgramData\\Anaconda3\\lib\\site-packages\\h5py\\__init__.py:36: FutureWarning: Conversion of the second argument of issubdtype from `float` to `np.floating` is deprecated. In future, it will be treated as `np.float64 == np.dtype(float).type`.\n",
      "  from ._conv import register_converters as _register_converters\n",
      "Using TensorFlow backend.\n"
     ]
    }
   ],
   "source": [
    "import numpy as np\n",
    "import pandas as pd\n",
    "from keras.utils import np_utils\n",
    "from tqdm import tqdm\n",
    "from sklearn.utils import shuffle\n",
    "\n",
    "np.random.seed(10)"
   ]
  },
  {
   "cell_type": "markdown",
   "metadata": {},
   "source": [
    "# 資料處理\n",
    "Mnist手寫數字資料集裡，每筆資料是28*28的圖檔，總共有6萬筆資料。而輸出資料則是0~9的數字，一筆輸入對應一筆輸出<br>\n",
    "注意:電腦是看不懂圖片的，所以我們把28*28的圖檔轉換成陣列，分別是0、1代表有無顏色，再做完轉換後有784個項。<br>\n",
    "     輸出資料集因為要在最後做分類，所以把0~9做one hot encoding，分成10項。"
   ]
  },
  {
   "cell_type": "code",
   "execution_count": 2,
   "metadata": {},
   "outputs": [
    {
     "name": "stdout",
     "output_type": "stream",
     "text": [
      "Downloading data from https://s3.amazonaws.com/img-datasets/mnist.npz\n",
      "11493376/11490434 [==============================] - ETA: 12:1 - ETA: 6:0 - ETA: 4: - ETA: 3: - ETA: 3: - ETA: 2: - ETA: 2: - ETA: 2: - ETA: 1: - ETA: 1: - ETA: 1: - ETA: 1: - ETA: 1: - ETA: 1: - ETA: 1: - ETA: 1: - ETA: 1: - ETA: 1: - ETA: 1: - ETA: 1: - ETA: 59s - ETA: 57 - ETA: 55 - ETA: 52 - ETA: 52 - ETA: 53 - ETA: 49 - ETA: 49 - ETA: 49 - ETA: 46 - ETA: 47 - ETA: 45 - ETA: 43 - ETA: 44 - ETA: 43 - ETA: 41 - ETA: 41 - ETA: 41 - ETA: 39 - ETA: 39 - ETA: 37 - ETA: 37 - ETA: 37 - ETA: 35 - ETA: 35 - ETA: 33 - ETA: 33 - ETA: 31 - ETA: 32 - ETA: 32 - ETA: 30 - ETA: 30 - ETA: 28 - ETA: 29 - ETA: 27 - ETA: 27 - ETA: 26 - ETA: 25 - ETA: 25 - ETA: 25 - ETA: 24 - ETA: 24 - ETA: 24 - ETA: 22 - ETA: 22 - ETA: 22 - ETA: 20 - ETA: 21 - ETA: 19 - ETA: 19 - ETA: 19 - ETA: 17 - ETA: 17 - ETA: 17 - ETA: 16 - ETA: 16 - ETA: 15 - ETA: 14 - ETA: 14 - ETA: 14 - ETA: 14 - ETA: 13 - ETA: 13 - ETA: 14 - ETA: 14 - ETA: 12 - ETA: 11 - ETA: 11 - ETA: 11 - ETA: 10 - ETA: 10 - ETA: 10 - ETA: 10 - ETA: 9 - ETA:  - ETA:  - ETA:  - ETA:  - ETA:  - ETA:  - ETA:  - ETA:  - ETA:  - ETA:  - ETA:  - ETA:  - ETA:  - ETA:  - ETA:  - ETA:  - ETA:  - ETA:  - ETA:  - ETA:  - ETA:  - ETA:  - ETA:  - ETA:  - ETA:  - ETA:  - ETA:  - ETA:  - ETA:  - ETA:  - ETA:  - ETA:  - ETA:  - ETA:  - ETA:  - ETA:  - ETA:  - ETA:  - ETA:  - ETA:  - ETA:  - ETA:  - ETA:  - ETA:  - ETA:  - ETA:  - ETA:  - ETA:  - ETA:  - ETA:  - ETA:  - ETA:  - ETA:  - ETA:  - ETA:  - ETA:  - ETA:  - ETA:  - ETA:  - ETA:  - ETA:  - ETA:  - ETA:  - ETA:  - ETA:  - ETA:  - ETA:  - ETA:  - ETA:  - ETA:  - 20s 2us/step\n",
      "\t[Info] train data= 60,000\n",
      "\t[Info] test  data= 10,000\n"
     ]
    }
   ],
   "source": [
    "from keras.datasets import mnist\n",
    "\n",
    "(X_train_image, y_train_label), (X_test_image, y_test_label) = mnist.load_data()\n",
    "\n",
    "print(\"\\t[Info] train data={:7,}\".format(len(X_train_image)))\n",
    "print(\"\\t[Info] test  data={:7,}\".format(len(X_test_image)))"
   ]
  },
  {
   "cell_type": "code",
   "execution_count": 3,
   "metadata": {},
   "outputs": [
    {
     "name": "stdout",
     "output_type": "stream",
     "text": [
      "\t[Info] Shape of train data=(60000, 28, 28)\n",
      "\t[Info] Shape of train label=(60000,)\n"
     ]
    }
   ],
   "source": [
    "print(\"\\t[Info] Shape of train data=%s\" % (str(X_train_image.shape)))\n",
    "print(\"\\t[Info] Shape of train label=%s\" % (str(y_train_label.shape)))"
   ]
  },
  {
   "cell_type": "code",
   "execution_count": 4,
   "metadata": {},
   "outputs": [],
   "source": [
    "import matplotlib.pyplot as plt\n",
    "def plot_image(image):\n",
    "    fig = plt.gcf()\n",
    "    fig.set_size_inches(2, 2)\n",
    "    plt.imshow(image, cmap='binary') # cmap='binary' 參數設定以黑白灰階顯示\n",
    "    plt.show()"
   ]
  },
  {
   "cell_type": "code",
   "execution_count": 5,
   "metadata": {},
   "outputs": [
    {
     "data": {
      "image/png": "[encoded data removed]",
      "text/plain": [
       "<Figure size 144x144 with 1 Axes>"
      ]
     },
     "metadata": {},
     "output_type": "display_data"
    },
    {
     "data": {
      "text/plain": [
       "5"
      ]
     },
     "execution_count": 5,
     "metadata": {},
     "output_type": "execute_result"
    }
   ],
   "source": [
    "plot_image(X_train_image[0])\n",
    "y_train_label[0]"
   ]
  },
  {
   "cell_type": "code",
   "execution_count": 6,
   "metadata": {},
   "outputs": [],
   "source": [
    "#用來印出預測結果的涵式\n",
    "def plot_images_labels_predict(images, labels, prediction, idx, num=10):  \n",
    "    fig = plt.gcf()  \n",
    "    fig.set_size_inches(12, 14)\n",
    "    if num > 25: num = 25  \n",
    "    for i in range(0, num):  \n",
    "        ax=plt.subplot(5,5, 1+i)  \n",
    "        ax.imshow(images[idx], cmap='binary')  \n",
    "        title = \"lable=\" + str(labels[idx])  \n",
    "        if len(prediction) > 0:  \n",
    "            title = \"lable={},prediction={}\".format(str(labels[idx]), str(prediction[idx]))  \n",
    "        else:  \n",
    "            title = \"lable={}\".format(str(labels[idx]))  \n",
    "        ax.set_title(title, fontsize=10)  \n",
    "        ax.set_xticks([]); ax.set_yticks([])  \n",
    "        idx+=1\n",
    "    plt.show()"
   ]
  },
  {
   "cell_type": "code",
   "execution_count": 7,
   "metadata": {},
   "outputs": [
    {
     "data": {
      "image/png": "[encoded data removed]",
      "text/plain": [
       "<Figure size 864x1008 with 10 Axes>"
      ]
     },
     "metadata": {},
     "output_type": "display_data"
    }
   ],
   "source": [
    "plot_images_labels_predict(X_train_image, y_train_label, [], 0)"
   ]
  },
  {
   "cell_type": "markdown",
   "metadata": {},
   "source": [
    "# 處理輸入項\n",
    "將二維的圖片降維之後變成784項數值"
   ]
  },
  {
   "cell_type": "code",
   "execution_count": 8,
   "metadata": {},
   "outputs": [
    {
     "name": "stdout",
     "output_type": "stream",
     "text": [
      "\t[Info] xTrain: (60000, 784)\n",
      "\t[Info] xTest: (10000, 784)\n"
     ]
    }
   ],
   "source": [
    "x_Train = X_train_image.reshape(60000, 28*28).astype('float32')\n",
    "x_Test = X_test_image.reshape(10000, 28*28).astype('float32')\n",
    "print(\"\\t[Info] xTrain: %s\" % (str(x_Train.shape)))\n",
    "print(\"\\t[Info] xTest: %s\" % (str(x_Test.shape)))\n",
    "  \n",
    "# Normalization\n",
    "x_Train_norm = x_Train/255\n",
    "x_Test_norm = x_Test/255"
   ]
  },
  {
   "cell_type": "markdown",
   "metadata": {},
   "source": [
    "# One Hot Encoding\n",
    "將輸出項(0-9) 轉為陣列0、1表示"
   ]
  },
  {
   "cell_type": "code",
   "execution_count": 9,
   "metadata": {},
   "outputs": [
    {
     "name": "stdout",
     "output_type": "stream",
     "text": [
      "5\n"
     ]
    },
    {
     "data": {
      "text/plain": [
       "array([[0., 0., 0., 0., 0., 1., 0., 0., 0., 0.]], dtype=float32)"
      ]
     },
     "execution_count": 9,
     "metadata": {},
     "output_type": "execute_result"
    }
   ],
   "source": [
    "y_TrainOneHot = np_utils.to_categorical(y_train_label) # 將 training 的 label 進行 one-hot encoding\n",
    "y_TestOneHot = np_utils.to_categorical(y_test_label) # 將測試的 labels 進行 one-hot encoding\n",
    "\n",
    "print(y_train_label[0]) # 檢視 training labels 第一個 label 的值\n",
    "y_TrainOneHot[:1] # 檢視第一個 label 在 one-hot encoding 後的結果, 會在第六個位置上為 1, 其他位置上為 0"
   ]
  },
  {
   "cell_type": "markdown",
   "metadata": {},
   "source": [
    "# 建構網路架構\n",
    "MLP網路架構總共有三層，分別是輸入層、隱藏層、輸出層。以下例子中，我只建構了一層隱藏層。<br><br>\n",
    "參數詳細解釋:https://blog.csdn.net/qq_20259459/article/details/53943413"
   ]
  },
  {
   "cell_type": "code",
   "execution_count": 10,
   "metadata": {},
   "outputs": [
    {
     "name": "stdout",
     "output_type": "stream",
     "text": [
      "WARNING:tensorflow:From <ipython-input-10-b5bf50a266ed>:41: softmax_cross_entropy_with_logits (from tensorflow.python.ops.nn_ops) is deprecated and will be removed in a future version.\n",
      "Instructions for updating:\n",
      "\n",
      "Future major versions of TensorFlow will allow gradients to flow\n",
      "into the labels input on backprop by default.\n",
      "\n",
      "See @{tf.nn.softmax_cross_entropy_with_logits_v2}.\n",
      "\n"
     ]
    }
   ],
   "source": [
    "import tensorflow as tf\n",
    "\n",
    "tf.reset_default_graph() #初始化graph 如果之前沒有定義過graph 可以不用寫\n",
    "\n",
    "batch_size =32 #gradient descent 批量更新數量\n",
    "epochs = 100   #總共跑幾次\n",
    "lr = 0.001     #gradient descent 一次走幾步\n",
    "#train_ratio=0.9\n",
    "\n",
    "#----------------------------輸入層--------------------------------\n",
    "with tf.name_scope('input'):\n",
    "    x_input = tf.placeholder(shape = (None, x_Train.shape[1]),\n",
    "                             name = 'x_input',\n",
    "                             dtype = tf.float32)\n",
    "    y_out = tf.placeholder(shape = (None, y_TrainOneHot.shape[1]),\n",
    "                              name = 'y_label',\n",
    "                              dtype = tf.float32)\n",
    "#----------------------------隱藏層--------------------------------\n",
    "#w1、b1 shape要一致\n",
    "with tf.variable_scope('hidden_layer'):\n",
    "    w1 = tf.get_variable('weight1',\n",
    "                         shape = [x_Train.shape[1], 25],\n",
    "                         dtype = tf.float32,\n",
    "                         initializer = tf.truncated_normal_initializer(stddev=0.1))\n",
    "    b1 = tf.get_variable('biasl',\n",
    "                          shape = [25],\n",
    "                          dtype = tf.float32,\n",
    "                          initializer = tf.constant_initializer(0.0))\n",
    "    x_h1 = tf.nn.relu(tf.add(tf.matmul(x_input, w1), b1))  #(x_input*w1)+b1 再傳入relu激發函數\n",
    "#----------------------------輸出層--------------------------------\n",
    "with tf.variable_scope('output_layer'):\n",
    "    w2 = tf.get_variable('weight2',\n",
    "                         shape = [25, y_TrainOneHot.shape[1]],\n",
    "                         dtype = tf.float32,\n",
    "                         initializer=tf.truncated_normal_initializer(stddev=0.1))\n",
    "    b2 = tf.get_variable('biasl2',\n",
    "                         shape = [y_TrainOneHot.shape[1]],\n",
    "                         dtype = tf.float32,\n",
    "                         initializer = tf.constant_initializer(0.0))\n",
    "    output = tf.add(tf.matmul(x_h1, w2), b2)"
   ]
  },
  {
   "cell_type": "markdown",
   "metadata": {},
   "source": [
    "# 定義涵式\n",
    "再有了神經網路架構後，還要定義Cross_entropy、Accuracy、Train\n",
    "* Cross_entropy : 衡量要找出正確答案，不同的策略，所要消耗的成本。計算每個batch完成後，預測結果與答案的差距(Loss Funtion)。\n",
    "* Accuracy : 累計計算最後的預測率\n",
    "* Train : 找出能最小化Loss Funtion的結果<br>\n",
    "結論:Cross_entropy、Train是必要的，而Accuracy不會影響train的過程。<br><br>\n",
    "Cross_entropy詳細解釋:https://medium.com/@chungyizhen/cross-entropy%E7%9A%84%E7%9B%B4%E8%A7%80%E7%90%86%E8%A7%A3-82e525e3780c"
   ]
  },
  {
   "cell_type": "code",
   "execution_count": null,
   "metadata": {},
   "outputs": [],
   "source": [
    "with tf.name_scope('cross_entropy'):\n",
    "    loss = tf.reduce_mean(tf.nn.softmax_cross_entropy_with_logits(logits=output, labels=y_out))\n",
    "\n",
    "with tf.name_scope('accuracy'):\n",
    "    correct_prediction = tf.equal(tf.argmax(tf.nn.softmax(output),1), tf.argmax(y_out,1)) #如果答案對則回傳truth\n",
    "    compute_acc = tf.reduce_mean(tf.cast(correct_prediction, tf.float32)) #將回傳的truth/false轉乘1/0並計算平均(計算正確率)\n",
    "\n",
    "with tf.name_scope('train'):\n",
    "    #使用adam做optimization最小化loss funciotn(不斷取微分並逼近local min)\n",
    "    train_step = tf.train.AdamOptimizer(learning_rate=lr).minimize(loss)"
   ]
  },
  {
   "cell_type": "code",
   "execution_count": 11,
   "metadata": {},
   "outputs": [
    {
     "name": "stderr",
     "output_type": "stream",
     "text": [
      "100%|████████████████████████████████████████████████████████████████████████████████| 100/100 [05:50<00:00,  3.51s/it]\n"
     ]
    },
    {
     "name": "stdout",
     "output_type": "stream",
     "text": [
      "--- training done ---\n",
      "training accuracy: 0.95\n",
      "training loss: 0.17\n"
     ]
    },
    {
     "data": {
      "image/png": "[encoded data removed]",
      "text/plain": [
       "<Figure size 432x288 with 1 Axes>"
      ]
     },
     "metadata": {},
     "output_type": "display_data"
    },
    {
     "data": {
      "image/png": "[encoded data removed]",
      "text/plain": [
       "<Figure size 432x288 with 1 Axes>"
      ]
     },
     "metadata": {},
     "output_type": "display_data"
    }
   ],
   "source": [
    "train_loss_list, valid_loss_list = [], []\n",
    "train_acc_list, valid_acc_list = [], []\n",
    "#-------------------------------------------------------sess-------------------------------------------------------\n",
    "with tf.Session() as sess:\n",
    "    # we have to initalize all variables (e.g. weights/biases) at beginning.\n",
    "    sess.run([tf.global_variables_initializer()])\n",
    "    # writer = tf.summary.FileWriter(\"./graph/\", sess.graph)\n",
    "    for i in tqdm(range(epochs)):\n",
    "        # get batch \n",
    "        total_batch = int(np.floor(len(x_Train) / batch_size)) \n",
    "        # 透過batch size 與資料量計算有幾個batch， just drop out last few samples ...\n",
    "        \n",
    "        train_loss_collector, train_acc_collector = [], []\n",
    "        for j in np.arange(total_batch):\n",
    "            #-------------------------------取一個batch 的資料-------------------------------------\n",
    "            batch_idx_start = j * batch_size\n",
    "            batch_idx_stop = (j+1) * batch_size\n",
    "\n",
    "            x_batch = x_Train[batch_idx_start : batch_idx_stop] \n",
    "            y_batch = y_TrainOneHot[batch_idx_start : batch_idx_stop]\n",
    "            #------------------------------------------------------------------------------------\n",
    "            this_loss, this_acc, _ = sess.run([loss, compute_acc, train_step], \n",
    "                                    feed_dict = {x_input: x_batch,\n",
    "                                                 y_out: y_batch})\n",
    "            # run上一個cell最後三個tensor得到loss值,正確率,和一次優化(得到新的weight 和biases)\n",
    "            train_loss_collector.append(this_loss) #記錄每個batch的loss\n",
    "            train_acc_collector.append(this_acc)   #記錄每個batch的acc\n",
    "            \n",
    "        train_loss_list.append(np.mean(train_loss_collector)) #記錄每個epoch 平均 loss\n",
    "        train_acc_list.append(np.mean(train_acc_collector))   #記錄每個epoch 平均 acc\n",
    "\n",
    "        # at the end of each epoch, shuffle the data 重新排列資料並進入下一個i(epochs)\n",
    "        x_Train, y_TrainOneHot = shuffle(x_Train, y_TrainOneHot)\n",
    "        \n",
    "        train_acc, train_loss = sess.run([compute_acc, loss],\n",
    "                                    feed_dict = {x_input: x_Train,\n",
    "                                                 y_out : y_TrainOneHot})\n",
    "print('--- training done ---')\n",
    "print('training accuracy: %.2f' % train_acc)\n",
    "print('training loss: %.2f' % train_loss)\n",
    "#------------------------------------------------------plot----------------------------------------------------------\n",
    "plt.plot(np.arange(len(train_loss_list)), train_loss_list, 'b', label = 'train')\n",
    "plt.legend()\n",
    "plt.show()\n",
    "\n",
    "plt.plot(np.arange(len(train_acc_list)), train_acc_list, 'b', label = 'train')\n",
    "plt.legend(loc = 4)\n",
    "plt.show()"
   ]
  }
 ],
 "metadata": {
  "kernelspec": {
   "display_name": "Python 3",
   "language": "python",
   "name": "python3"
  },
  "language_info": {
   "codemirror_mode": {
    "name": "ipython",
    "version": 3
   },
   "file_extension": ".py",
   "mimetype": "text/x-python",
   "name": "python",
   "nbconvert_exporter": "python",
   "pygments_lexer": "ipython3",
   "version": "3.6.5"
  }
 },
 "nbformat": 4,
 "nbformat_minor": 2
}
